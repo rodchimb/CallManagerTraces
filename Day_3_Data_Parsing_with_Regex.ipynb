{
  "cells": [
    {
      "cell_type": "markdown",
      "metadata": {
        "id": "view-in-github",
        "colab_type": "text"
      },
      "source": [
        "<a href=\"https://colab.research.google.com/github/rodchimb/CallManagerTraces/blob/master/Day_3_Data_Parsing_with_Regex.ipynb\" target=\"_parent\"><img src=\"https://colab.research.google.com/assets/colab-badge.svg\" alt=\"Open In Colab\"/></a>"
      ]
    },
    {
      "cell_type": "code",
      "source": [
        "# day3_data_parsing.py\n",
        "# This script demonstrates how to parse unstructured text output using\n",
        "# regular expressions (regex), a fundamental skill for network automation.\n",
        "#\n",
        "# Prerequisite: No extra libraries needed, `re` is a built-in Python module.\n",
        "\n",
        "import re\n",
        "\n",
        "# Step 1: Simulate the output from a 'show version' command.\n",
        "# In a real script, this output would come from `net_connect.send_command()`.\n",
        "# We hardcode it here for the purpose of this lesson.\n",
        "cli_output = \"\"\"\n",
        "Cisco IOS Software, C1900 Software (C1900-UNIVERSALK9-M), Version 15.2(4)M6, RELEASE SOFTWARE (fc1)\n",
        "Technical Support: http://www.cisco.com/techsupport\n",
        "Copyright (c) 1986-2013 by Cisco Systems, Inc.\n",
        "Compiled Wed 27-Nov-13 19:40 by prod_rel_team\n",
        "\n",
        "ROM: System Bootstrap, Version 15.1(4)M, RELEASE SOFTWARE (fc1)\n",
        "\n",
        "R1 uptime is 1 day, 2 hours, 14 minutes\n",
        "System returned to ROM by reload\n",
        "System image file is \"flash:c1900-universalk9-mz.SPA.152-4.M6.bin\"\n",
        "\n",
        "This product contains cryptographic features and is subject to United\n",
        "States and local country laws governing import, export, transfer and\n",
        "use.\n",
        "\"\"\"\n",
        "\n",
        "# Step 2: Define the regex patterns to match the desired information.\n",
        "# The 're.search()' function will look for these patterns in the text.\n",
        "# The parentheses '()' create a capture group to extract the specific value.\n",
        "version_pattern = r'Version (.+?),' # Capture everything after \"Version \" and before \",\"\n",
        "model_pattern = r'Cisco IOS Software, (.+?),' # Capture everything after \"Cisco IOS Software, \" and before \",\"\n",
        "uptime_pattern = r'uptime is (.+)' # Capture everything after \"uptime is \"\n",
        "\n",
        "# Step 3: Search the output for each pattern.\n",
        "# 're.search()' returns a match object if a pattern is found.\n",
        "version_match = re.search(version_pattern, cli_output)\n",
        "model_match = re.search(model_pattern, cli_output)\n",
        "uptime_match = re.search(uptime_pattern, cli_output)\n",
        "\n",
        "# Step 4: Extract the captured information and print it.\n",
        "# The '.group(1)' method returns the text from the first capture group.\n",
        "if version_match and model_match and uptime_match:\n",
        "    ios_version = version_match.group(1)\n",
        "    device_model = model_match.group(1)\n",
        "    uptime = uptime_match.group(1)\n",
        "\n",
        "    print(\"--- Parsed Device Information ---\")\n",
        "    print(f\"Device Model: {device_model}\")\n",
        "    print(f\"IOS Version: {ios_version}\")\n",
        "    print(f\"Uptime: {uptime}\")\n",
        "    print(\"-----------------------------------\")\n",
        "else:\n",
        "    print(\"Could not find all information using regex.\")\n",
        "\n",
        "# --- Postman & cURL Equivalent ---\n",
        "# Note: When using APIs, the data is already structured (e.g., in JSON or XML), so\n",
        "# you don't need to parse messy text output with regex. The \"parsing\" is as simple\n",
        "# as accessing a key in a dictionary.\n",
        "#\n",
        "# A cURL command to get structured device information might look like this:\n",
        "# curl -X GET \"https://api.your-controller.com/v1/devices/12345\" \\\n",
        "#      -H \"Content-Type: application/json\" \\\n",
        "#      -H \"X-Auth-Token: YOUR_API_TOKEN\"\n",
        "#\n",
        "# This command would return a JSON object that is easily consumed by Python.\n",
        "# Example JSON output: {\"hostname\": \"R1\", \"version\": \"15.2(4)M6\", \"uptime\": \"1 day, 2 hours\"}"
      ],
      "outputs": [],
      "execution_count": null,
      "metadata": {
        "id": "g-9geMDzkA8A"
      }
    }
  ],
  "metadata": {
    "colab": {
      "provenance": [],
      "include_colab_link": true
    },
    "kernelspec": {
      "display_name": "Python 3",
      "name": "python3"
    }
  },
  "nbformat": 4,
  "nbformat_minor": 0
}