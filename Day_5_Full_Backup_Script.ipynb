{
  "cells": [
    {
      "cell_type": "markdown",
      "metadata": {
        "id": "view-in-github",
        "colab_type": "text"
      },
      "source": [
        "<a href=\"https://colab.research.google.com/github/rodchimb/CallManagerTraces/blob/master/Day_5_Full_Backup_Script.ipynb\" target=\"_parent\"><img src=\"https://colab.research.google.com/assets/colab-badge.svg\" alt=\"Open In Colab\"/></a>"
      ]
    },
    {
      "cell_type": "code",
      "source": [
        "# day5_complete_backup.py\n",
        "# This is the final project, combining all lessons into a single,\n",
        "# practical script to back up network device configurations.\n",
        "#\n",
        "# Prerequisite: Make sure you have Netmiko installed.\n",
        "#\n",
        "# Changes:\n",
        "# - Reads device information from a JSON file.\n",
        "# - Loops through multiple devices.\n",
        "# - Uses a `try...except` block to handle errors for each device.\n",
        "# - Saves the configuration to a file with a timestamp.\n",
        "\n",
        "import json\n",
        "import datetime\n",
        "from netmiko import ConnectHandler\n",
        "\n",
        "# Step 1: Define the device list filename.\n",
        "DEVICES_FILE = 'devices.json'\n",
        "\n",
        "def backup_device(device):\n",
        "    \"\"\"\n",
        "    Connects to a single device and backs up its running configuration.\n",
        "    \"\"\"\n",
        "    try:\n",
        "        # Step 2: Establish the connection using ConnectHandler.\n",
        "        # **device unpacks the dictionary to pass its keys as arguments.\n",
        "        net_connect = ConnectHandler(**device)\n",
        "        print(f\"\\nSuccessfully connected to {device['host']}\")\n",
        "\n",
        "        # Step 3: Run the command to get the configuration.\n",
        "        print(\"Grabbing the running configuration...\")\n",
        "        output = net_connect.send_command('show run')\n",
        "\n",
        "        # Step 4: Create a timestamped filename for the backup.\n",
        "        timestamp = datetime.datetime.now().strftime('%Y-%m-%d_%H-%M-%S')\n",
        "        filename = f\"{device['host']}_backup_{timestamp}.txt\"\n",
        "\n",
        "        # Step 5: Write the configuration to the new file.\n",
        "        with open(filename, 'w') as f:\n",
        "            f.write(output)\n",
        "        print(f\"Configuration saved to {filename}\")\n",
        "\n",
        "        # Step 6: Disconnect.\n",
        "        net_connect.disconnect()\n",
        "\n",
        "    except Exception as e:\n",
        "        # Step 7: Handle any errors gracefully.\n",
        "        print(f\"Failed to connect or backup device {device['host']}. Error: {e}\")\n",
        "\n",
        "if __name__ == \"__main__\":\n",
        "    try:\n",
        "        # Step 8: Read the device information from the JSON file.\n",
        "        with open(DEVICES_FILE, 'r') as f:\n",
        "            devices = json.load(f)\n",
        "\n",
        "        # Step 9: Loop through all devices in the list.\n",
        "        for device_info in devices:\n",
        "            device_info['device_type'] = 'cisco_ios'\n",
        "            # Call the function to backup the device.\n",
        "            backup_device(device_info)\n",
        "    except FileNotFoundError:\n",
        "        print(f\"Error: The file '{DEVICES_FILE}' was not found. \"\n",
        "              \"Please make sure it's in the same directory.\")\n",
        "    except json.JSONDecodeError:\n",
        "        print(f\"Error: The file '{DEVICES_FILE}' contains invalid JSON. \"\n",
        "              \"Please check its format.\")"
      ],
      "outputs": [],
      "execution_count": null,
      "metadata": {
        "id": "PKxvbWUnkxaF"
      }
    }
  ],
  "metadata": {
    "colab": {
      "provenance": [],
      "include_colab_link": true
    },
    "kernelspec": {
      "display_name": "Python 3",
      "name": "python3"
    }
  },
  "nbformat": 4,
  "nbformat_minor": 0
}